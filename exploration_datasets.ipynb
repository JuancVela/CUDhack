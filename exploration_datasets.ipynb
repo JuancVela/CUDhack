{
  "cells": [
    {
      "cell_type": "markdown",
      "metadata": {
        "id": "view-in-github",
        "colab_type": "text"
      },
      "source": [
        "<a href=\"https://colab.research.google.com/github/JuancVela/CUDhack/blob/main/exploration_datasets.ipynb\" target=\"_parent\"><img src=\"https://colab.research.google.com/assets/colab-badge.svg\" alt=\"Open In Colab\"/></a>"
      ]
    },
    {
      "cell_type": "markdown",
      "id": "1d11a2b2-62e7-42df-befa-e2338b9f8df5",
      "metadata": {
        "id": "1d11a2b2-62e7-42df-befa-e2338b9f8df5"
      },
      "source": [
        "# Union y exploración de los datasets"
      ]
    },
    {
      "cell_type": "code",
      "execution_count": 1,
      "id": "8a927223-64c2-4e2f-8970-f7d484504c94",
      "metadata": {
        "id": "8a927223-64c2-4e2f-8970-f7d484504c94"
      },
      "outputs": [],
      "source": [
        "import os\n",
        "import openpyxl\n",
        "import pandas as pd\n",
        "import re"
      ]
    },
    {
      "cell_type": "code",
      "source": [
        "from google.colab import drive\n",
        "drive.mount('/content/drive')"
      ],
      "metadata": {
        "colab": {
          "base_uri": "https://localhost:8080/"
        },
        "id": "gekwRwrak9Vp",
        "outputId": "df1274e0-c816-4921-b75d-4f8653d5c4c1"
      },
      "id": "gekwRwrak9Vp",
      "execution_count": 6,
      "outputs": [
        {
          "output_type": "stream",
          "name": "stdout",
          "text": [
            "Mounted at /content/drive\n"
          ]
        }
      ]
    },
    {
      "cell_type": "code",
      "source": [
        "folder='/content/drive/MyDrive/CUD_hackaton/Data Set hackaton/Data Base'"
      ],
      "metadata": {
        "id": "cBhNtKHTlSuq"
      },
      "id": "cBhNtKHTlSuq",
      "execution_count": 7,
      "outputs": []
    },
    {
      "cell_type": "code",
      "execution_count": 14,
      "id": "a9725ea4-7624-43bf-9aa7-a4059d76d82c",
      "metadata": {
        "id": "a9725ea4-7624-43bf-9aa7-a4059d76d82c",
        "outputId": "0173ffaf-dd8b-4446-e341-aa64449e102d",
        "colab": {
          "base_uri": "https://localhost:8080/"
        }
      },
      "outputs": [
        {
          "output_type": "stream",
          "name": "stdout",
          "text": [
            "dict_keys(['Fases producción_test.xlsx_Cultivo final', 'Cinéticos IPC.xlsx_Inóculos', 'Cinéticos IPC.xlsx_Cultivos finales', 'Cinéticos IPC.xlsx_Centrifugación', 'Fases producción.xlsx_Preinóculo', 'Fases producción.xlsx_Cultivo final', 'Horas inicio fin centrífugas.xlsx_Hoja1', 'Mov_comp', 'OF', 'TyH_WDato', 'TyH_Datos', 'FP_Inoculo'])\n"
          ]
        }
      ],
      "source": [
        "# Función para leer archivos Excel desde un directorio\n",
        "def read_excel_files(folder_path, pattern=r'\\d+'):\n",
        "    if not os.path.exists(folder_path):\n",
        "        raise FileNotFoundError(f\"The directory {folder_path} does not exist.\")\n",
        "\n",
        "    excel_files = [file for file in os.listdir(folder_path) if file.endswith('.xlsx')]\n",
        "    dfs = []  # Lista para almacenar DataFrames\n",
        "\n",
        "    for file_name in excel_files:\n",
        "        file_path = os.path.join(folder_path, file_name)\n",
        "        wb = openpyxl.load_workbook(file_path)\n",
        "\n",
        "        for sheet_name in wb.sheetnames:\n",
        "            sheet = wb[sheet_name]\n",
        "            # Solo procesar hojas visibles\n",
        "            if sheet.sheet_state == 'visible':\n",
        "                try:\n",
        "                    df = pd.read_excel(file_path, sheet_name=sheet_name)\n",
        "                except Exception as e:\n",
        "                    print(f\"Error reading {file_name} - {sheet_name}: {e}\")\n",
        "                    continue\n",
        "                # Extraer ID del nombre del archivo y limpiar las columnas\n",
        "                match = re.search(pattern, file_name)\n",
        "                if match:\n",
        "                    id_file = str(match.group(0))\n",
        "                    df['ID'] = id_file\n",
        "                    df.columns = [col.replace(id_file + \"_\", \"\") for col in df.columns]\n",
        "                dfs.append(df)\n",
        "\n",
        "    if dfs:\n",
        "        return pd.concat(dfs, axis=0, ignore_index=True)\n",
        "    else:\n",
        "        return pd.DataFrame()  # Retorna un DataFrame vacío si no hay archivos\n",
        "\n",
        "# Directorio base\n",
        "#folder = \"/Users/juancamilovela/Documents/CUD_hackaton/Data Set hackaton/Data Base\"\n",
        "\n",
        "# Lectura de archivos de Bioreactor\n",
        "folder_Bioreactor = os.path.join(folder, \"Biorreactor\")\n",
        "Bioreactor = read_excel_files(folder_Bioreactor)\n",
        "\n",
        "# Lectura de archivos de Centrifuga\n",
        "folder_Centrifuga = os.path.join(folder, \"Centrifuga\")\n",
        "Centrifuga = read_excel_files(folder_Centrifuga)\n",
        "\n",
        "# Lectura de archivos restantes en la carpeta 'Data Base'\n",
        "excel_files = [file for file in os.listdir(folder) if file.endswith('.xlsx')]\n",
        "\n",
        "DB = {}  # Diccionario para almacenar DataFrames de cada archivo\n",
        "\n",
        "for file_name in excel_files:\n",
        "    file_path = os.path.join(folder, file_name)\n",
        "    try:\n",
        "        sheets = pd.read_excel(file_path, sheet_name=None)  # Lee todas las hojas\n",
        "        for sheet_name, df in sheets.items():\n",
        "            df_name = f\"{file_name}_{sheet_name}\"  # Combina el nombre del archivo y de la hoja\n",
        "            DB[df_name] = df  # Almacena el DataFrame en el diccionario\n",
        "    except Exception as e:\n",
        "        print(f\"Error reading {file_name}: {e}\")"
      ]
    },
    {
      "cell_type": "code",
      "execution_count": 21,
      "id": "badeb5d5-a5de-4481-b477-6037c67d7883",
      "metadata": {
        "id": "badeb5d5-a5de-4481-b477-6037c67d7883",
        "colab": {
          "base_uri": "https://localhost:8080/"
        },
        "outputId": "1a228a84-2552-447d-a440-d592d60ccd1a"
      },
      "outputs": [
        {
          "output_type": "stream",
          "name": "stdout",
          "text": [
            "dict_keys(['Mov_comp', 'OF', 'TyH_WDato', 'TyH_Datos', 'FP_Inoculo', 'FP_test_Cf', 'C_Inoculo', 'C_finales', 'C_Centrifuga', 'FP_Preinoculo', 'FP_final', 'Hrs_Centrifuga'])\n"
          ]
        }
      ],
      "source": [
        "# Mapeo de nombres de claves\n",
        "key_mappings = {\n",
        "    'Cinéticos IPC.xlsx_Inóculos': 'C_Inoculo',\n",
        "    'Cinéticos IPC.xlsx_Cultivos finales': 'C_finales',\n",
        "    'Cinéticos IPC.xlsx_Centrifugación': 'C_Centrifuga',\n",
        "    'Fases producción.xlsx_Preinóculo': 'FP_Preinoculo',\n",
        "    'Fases producción.xlsx_Inóculo': 'FP_Inoculo',\n",
        "    'Fases producción.xlsx_Cultivo final': 'FP_final',\n",
        "    'Fases producción_test.xlsx_Cultivo final': 'FP_test_Cf',\n",
        "    'Horas inicio fin centrífugas.xlsx_Hoja1': 'Hrs_Centrifuga',\n",
        "    'Movimientos componentes.xlsx_Full1': 'Mov_comp',\n",
        "    'OF 123456.xlsx_Sheet1': 'OF',\n",
        "    'Temperaturas y humedades.xlsx_WData': 'TyH_WDato',\n",
        "    'Temperaturas y humedades.xlsx_Datos': 'TyH_Datos'\n",
        "    # Añadir más mappings si es necesario\n",
        "}\n",
        "\n",
        "for old_key, new_key in key_mappings.items():\n",
        "\n",
        "    if old_key in DB:\n",
        "\n",
        "        DB[new_key] = DB.pop(old_key)\n",
        "\n",
        "# Actualizar el diccionario 'DB' usando los mapeos definidos\n",
        "#DB = {key_mappings.get(k, k): v for k, v in DB.items()}\n",
        "\n",
        "# Ver las claves del diccionario actualizado\n",
        "print(DB.keys())\n"
      ]
    },
    {
      "cell_type": "code",
      "source": [],
      "metadata": {
        "id": "YmC5_4Sbcb4z"
      },
      "id": "YmC5_4Sbcb4z",
      "execution_count": null,
      "outputs": []
    }
  ],
  "metadata": {
    "kernelspec": {
      "display_name": "Python 3 (ipykernel)",
      "language": "python",
      "name": "python3"
    },
    "language_info": {
      "codemirror_mode": {
        "name": "ipython",
        "version": 3
      },
      "file_extension": ".py",
      "mimetype": "text/x-python",
      "name": "python",
      "nbconvert_exporter": "python",
      "pygments_lexer": "ipython3",
      "version": "3.12.4"
    },
    "colab": {
      "provenance": [],
      "include_colab_link": true
    }
  },
  "nbformat": 4,
  "nbformat_minor": 5
}