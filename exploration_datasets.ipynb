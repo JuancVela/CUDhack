{
  "cells": [
    {
      "cell_type": "markdown",
      "metadata": {
        "id": "view-in-github",
        "colab_type": "text"
      },
      "source": [
        "<a href=\"https://colab.research.google.com/github/JuancVela/CUDhack/blob/main/exploration_datasets.ipynb\" target=\"_parent\"><img src=\"https://colab.research.google.com/assets/colab-badge.svg\" alt=\"Open In Colab\"/></a>"
      ]
    },
    {
      "cell_type": "markdown",
      "id": "1d11a2b2-62e7-42df-befa-e2338b9f8df5",
      "metadata": {
        "id": "1d11a2b2-62e7-42df-befa-e2338b9f8df5"
      },
      "source": [
        "# Union y exploración de los datasets"
      ]
    },
    {
      "cell_type": "code",
      "execution_count": 1,
      "id": "8a927223-64c2-4e2f-8970-f7d484504c94",
      "metadata": {
        "id": "8a927223-64c2-4e2f-8970-f7d484504c94"
      },
      "outputs": [],
      "source": [
        "import os\n",
        "import openpyxl\n",
        "import pandas as pd\n",
        "import re"
      ]
    },
    {
      "cell_type": "code",
      "source": [
        "from google.colab import drive\n",
        "drive.mount('/content/drive')"
      ],
      "metadata": {
        "colab": {
          "base_uri": "https://localhost:8080/"
        },
        "id": "gekwRwrak9Vp",
        "outputId": "bc9ecab2-5148-4c1f-87a7-990a6cc5a594"
      },
      "id": "gekwRwrak9Vp",
      "execution_count": 2,
      "outputs": [
        {
          "output_type": "stream",
          "name": "stdout",
          "text": [
            "Mounted at /content/drive\n"
          ]
        }
      ]
    },
    {
      "cell_type": "code",
      "source": [
        "folder=('/content/drive/MyDrive/CUD_hackaton/Data Set hackaton/Data Base')"
      ],
      "metadata": {
        "id": "cBhNtKHTlSuq"
      },
      "id": "cBhNtKHTlSuq",
      "execution_count": 3,
      "outputs": []
    },
    {
      "cell_type": "code",
      "execution_count": null,
      "id": "a9725ea4-7624-43bf-9aa7-a4059d76d82c",
      "metadata": {
        "id": "a9725ea4-7624-43bf-9aa7-a4059d76d82c",
        "outputId": "c0734636-5f3f-4918-d1c8-a86026c22daa"
      },
      "outputs": [
        {
          "name": "stdout",
          "output_type": "stream",
          "text": [
            "dict_keys(['Horas inicio fin centrífugas.xlsx_Hoja1', 'Cinéticos IPC.xlsx_Inóculos', 'Cinéticos IPC.xlsx_Cultivos finales', 'Cinéticos IPC.xlsx_Centrifugación', 'Fases producción.xlsx_Preinóculo', 'Fases producción.xlsx_Inóculo', 'Fases producción.xlsx_Cultivo final', 'Fases producción_test.xlsx_Cultivo final', 'Mov_comp', 'OF', 'TyH_WDato', 'TyH_Datos'])\n"
          ]
        }
      ],
      "source": [
        "# Función para leer archivos Excel desde un directorio\n",
        "def read_excel_files(folder_path, pattern=r'\\d+'):\n",
        "    if not os.path.exists(folder_path):\n",
        "        raise FileNotFoundError(f\"The directory {folder_path} does not exist.\")\n",
        "\n",
        "    excel_files = [file for file in os.listdir(folder_path) if file.endswith('.xlsx')]\n",
        "    dfs = []  # Lista para almacenar DataFrames\n",
        "\n",
        "    for file_name in excel_files:\n",
        "        file_path = os.path.join(folder_path, file_name)\n",
        "        wb = openpyxl.load_workbook(file_path)\n",
        "\n",
        "        for sheet_name in wb.sheetnames:\n",
        "            sheet = wb[sheet_name]\n",
        "            # Solo procesar hojas visibles\n",
        "            if sheet.sheet_state == 'visible':\n",
        "                try:\n",
        "                    df = pd.read_excel(file_path, sheet_name=sheet_name)\n",
        "                except Exception as e:\n",
        "                    print(f\"Error reading {file_name} - {sheet_name}: {e}\")\n",
        "                    continue\n",
        "                # Extraer ID del nombre del archivo y limpiar las columnas\n",
        "                match = re.search(pattern, file_name)\n",
        "                if match:\n",
        "                    id_file = str(match.group(0))\n",
        "                    df['ID'] = id_file\n",
        "                    df.columns = [col.replace(id_file + \"_\", \"\") for col in df.columns]\n",
        "                dfs.append(df)\n",
        "\n",
        "    if dfs:\n",
        "        return pd.concat(dfs, axis=0, ignore_index=True)\n",
        "    else:\n",
        "        return pd.DataFrame()  # Retorna un DataFrame vacío si no hay archivos\n",
        "\n",
        "# Directorio base\n",
        "folder = \"/Users/juancamilovela/Documents/CUD_hackaton/Data Set hackaton/Data Base\"\n",
        "\n",
        "# Lectura de archivos de Bioreactor\n",
        "folder_Bioreactor = os.path.join(folder, \"Biorreactor\")\n",
        "Bioreactor = read_excel_files(folder_Bioreactor)\n",
        "\n",
        "# Lectura de archivos de Centrifuga\n",
        "folder_Centrifuga = os.path.join(folder, \"Centrifuga\")\n",
        "Centrifuga = read_excel_files(folder_Centrifuga)\n",
        "\n",
        "# Lectura de archivos restantes en la carpeta 'Data Base'\n",
        "excel_files = [file for file in os.listdir(folder) if file.endswith('.xlsx')]\n",
        "\n",
        "DB = {}  # Diccionario para almacenar DataFrames de cada archivo\n",
        "\n",
        "for file_name in excel_files:\n",
        "    file_path = os.path.join(folder, file_name)\n",
        "    try:\n",
        "        sheets = pd.read_excel(file_path, sheet_name=None)  # Lee todas las hojas\n",
        "        for sheet_name, df in sheets.items():\n",
        "            df_name = f\"{file_name}_{sheet_name}\"  # Combina el nombre del archivo y de la hoja\n",
        "            DB[df_name] = df  # Almacena el DataFrame en el diccionario\n",
        "    except Exception as e:\n",
        "        print(f\"Error reading {file_name}: {e}\")\n",
        "\n",
        "# Mapeo de nombres de claves\n",
        "key_mappings = {\n",
        "    'Cinéticos IPC.xlsx_Inóculos': 'C_Inoculo',\n",
        "    'Cinéticos IPC.xlsx_Cultivos finales': 'C_finales',\n",
        "    'Cinéticos IPC.xlsx_Centrifugación': 'C_Centrifuga',\n",
        "    'Fases producción.xlsx_Preinóculo': 'FP_Preinoculo',\n",
        "    'Fases producción.xlsx_Inóculo': 'FP_Inoculo',\n",
        "    'Fases producción.xlsx_Cultivo final': 'FP_final',\n",
        "    'Fases producción_test.xlsx_Cultivo final': 'FP_test_Cf',\n",
        "    'Horas inicio fin centrífugas.xlsx_Hoja1': 'Hrs_Centrifuga',\n",
        "    'Movimientos componentes.xlsx_Full1': 'Mov_comp',\n",
        "    'OF 123456.xlsx_Sheet1': 'OF',\n",
        "    'Temperaturas y humedades.xlsx_WData': 'TyH_WDato',\n",
        "    'Temperaturas y humedades.xlsx_Datos': 'TyH_Datos'\n",
        "    # Añadir más mappings si es necesario\n",
        "}\n",
        "\n",
        "for old_key, new_key in key_mappings.items():\n",
        "\n",
        "    if old_key in DB:\n",
        "\n",
        "        DB[new_key] = DB.pop(old_key)\n",
        "\n",
        "# Actualizar el diccionario 'DB' usando los mapeos definidos\n",
        "#DB = {key_mappings.get(k, k): v for k, v in DB.items()}\n",
        "\n",
        "# Ver las claves del diccionario actualizado\n",
        "print(DB.keys())"
      ]
    },
    {
      "cell_type": "code",
      "execution_count": null,
      "id": "badeb5d5-a5de-4481-b477-6037c67d7883",
      "metadata": {
        "id": "badeb5d5-a5de-4481-b477-6037c67d7883"
      },
      "outputs": [],
      "source": []
    },
    {
      "cell_type": "code",
      "execution_count": null,
      "id": "7429638f-0341-4b16-b1b9-12d496140d34",
      "metadata": {
        "id": "7429638f-0341-4b16-b1b9-12d496140d34"
      },
      "outputs": [],
      "source": [
        "\n",
        "\n",
        "key_mappings = {\n",
        "\n",
        "    'Cinéticos IPC.xlsx_Inóculos': 'C_Inoculo',\n",
        "\n",
        "    'Cinéticos IPC.xlsx_Cultivos finales': 'C_finales',\n",
        "\n",
        "    'Cinéticos IPC.xlsx_Centrifugación': 'C_Centrifuga',\n",
        "\n",
        "    'Fases producción.xlsx_Preinóculo': 'FP_Preinoculo',\n",
        "\n",
        "    'Fases producción.xlsx_Inóculo': 'FP_Inoculo',\n",
        "\n",
        "    'Fases producción.xlsx_Cultivo final': 'FP_final',\n",
        "\n",
        "    'Fases producción_test.xlsx_Cultivo final': 'FP_test_Cf',\n",
        "\n",
        "    'Horas inicio fin centrífugas.xlsx_Hoja1': 'Hrs_Centrifuga',\n",
        "\n",
        "    'Movimientos componentes.xlsx_Full1': 'Mov_comp',\n",
        "\n",
        "    'OF 123456.xlsx_Sheet1': 'OF',\n",
        "\n",
        "    'Temperaturas y humedades.xlsx_WData': 'TyH_WDato',\n",
        "\n",
        "    'Temperaturas y humedades.xlsx_Datos': 'TyH_Datos'\n",
        "\n",
        "    # Add more mappings for other keys you want to change\n",
        "\n",
        "}\n",
        "\n",
        "# 2. Update the dictionary using the mappings\n",
        "\n",
        "for old_key, new_key in key_mappings.items():\n",
        "\n",
        "    if old_key in DB:\n",
        "\n",
        "        DB[new_key] = DB.pop(old_key)\n",
        "\n",
        ""
      ]
    },
    {
      "cell_type": "code",
      "execution_count": null,
      "id": "0c1e50f9-e41a-4927-aaaf-fa772c26c3d8",
      "metadata": {
        "id": "0c1e50f9-e41a-4927-aaaf-fa772c26c3d8",
        "outputId": "7a5a0526-038a-44a3-dd67-613674f28d67"
      },
      "outputs": [
        {
          "name": "stdout",
          "output_type": "stream",
          "text": [
            "dict_keys(['Horas inicio fin centrífugas.xlsx_Hoja1', 'Cinéticos IPC.xlsx_Inóculos', 'Cinéticos IPC.xlsx_Cultivos finales', 'Cinéticos IPC.xlsx_Centrifugación', 'Fases producción.xlsx_Preinóculo', 'Fases producción.xlsx_Inóculo', 'Fases producción.xlsx_Cultivo final', 'Fases producción_test.xlsx_Cultivo final', 'Mov_comp', 'OF', 'TyH_WDato', 'TyH_Datos'])\n"
          ]
        }
      ],
      "source": [
        "print (DB.keys())"
      ]
    },
    {
      "cell_type": "code",
      "execution_count": null,
      "id": "ad61d5b2-7fed-44a3-badf-133c1c36cdc9",
      "metadata": {
        "id": "ad61d5b2-7fed-44a3-badf-133c1c36cdc9",
        "outputId": "a3720c5f-4cb5-4ccc-e138-df18699ea057"
      },
      "outputs": [
        {
          "ename": "KeyError",
          "evalue": "'Fases produccion.xlsx_Preinoculo'",
          "output_type": "error",
          "traceback": [
            "\u001b[0;31m---------------------------------------------------------------------------\u001b[0m",
            "\u001b[0;31mKeyError\u001b[0m                                  Traceback (most recent call last)",
            "Cell \u001b[0;32mIn[34], line 1\u001b[0m\n\u001b[0;32m----> 1\u001b[0m DB[\u001b[38;5;124m'\u001b[39m\u001b[38;5;124mFases produccion.xlsx_Preinoculo\u001b[39m\u001b[38;5;124m'\u001b[39m]\n",
            "\u001b[0;31mKeyError\u001b[0m: 'Fases produccion.xlsx_Preinoculo'"
          ]
        }
      ],
      "source": [
        "DB['Fases produccion.xlsx_Preinoculo']"
      ]
    },
    {
      "cell_type": "code",
      "execution_count": null,
      "id": "893ea773-28ce-465e-a503-b3630a88d856",
      "metadata": {
        "id": "893ea773-28ce-465e-a503-b3630a88d856"
      },
      "outputs": [],
      "source": []
    },
    {
      "cell_type": "code",
      "execution_count": null,
      "id": "701b318f-ceeb-4b41-8b14-b75770c604ee",
      "metadata": {
        "id": "701b318f-ceeb-4b41-8b14-b75770c604ee"
      },
      "outputs": [],
      "source": []
    }
  ],
  "metadata": {
    "kernelspec": {
      "display_name": "Python 3 (ipykernel)",
      "language": "python",
      "name": "python3"
    },
    "language_info": {
      "codemirror_mode": {
        "name": "ipython",
        "version": 3
      },
      "file_extension": ".py",
      "mimetype": "text/x-python",
      "name": "python",
      "nbconvert_exporter": "python",
      "pygments_lexer": "ipython3",
      "version": "3.12.4"
    },
    "colab": {
      "provenance": [],
      "include_colab_link": true
    }
  },
  "nbformat": 4,
  "nbformat_minor": 5
}